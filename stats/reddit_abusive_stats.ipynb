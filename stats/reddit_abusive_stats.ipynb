{
 "cells": [
  {
   "cell_type": "markdown",
   "metadata": {},
   "source": [
    "# Inspecting the text data"
   ]
  },
  {
   "cell_type": "code",
   "execution_count": 2,
   "metadata": {},
   "outputs": [
    {
     "data": {
      "text/html": [
       "<div>\n",
       "<style scoped>\n",
       "    .dataframe tbody tr th:only-of-type {\n",
       "        vertical-align: middle;\n",
       "    }\n",
       "\n",
       "    .dataframe tbody tr th {\n",
       "        vertical-align: top;\n",
       "    }\n",
       "\n",
       "    .dataframe thead th {\n",
       "        text-align: right;\n",
       "    }\n",
       "</style>\n",
       "<table border=\"1\" class=\"dataframe\">\n",
       "  <thead>\n",
       "    <tr style=\"text-align: right;\">\n",
       "      <th></th>\n",
       "      <th>subreddit</th>\n",
       "      <th>text</th>\n",
       "      <th>labels</th>\n",
       "    </tr>\n",
       "  </thead>\n",
       "  <tbody>\n",
       "    <tr>\n",
       "      <th>0</th>\n",
       "      <td>holocaust</td>\n",
       "      <td>LOL</td>\n",
       "      <td>IMP</td>\n",
       "    </tr>\n",
       "    <tr>\n",
       "      <th>1</th>\n",
       "      <td>holocaust</td>\n",
       "      <td>And Soccer \" A Lot of People Say Jews are Curs...</td>\n",
       "      <td>IMP</td>\n",
       "    </tr>\n",
       "    <tr>\n",
       "      <th>2</th>\n",
       "      <td>holocaust</td>\n",
       "      <td>Every racial group in America is free to creat...</td>\n",
       "      <td>EXP</td>\n",
       "    </tr>\n",
       "    <tr>\n",
       "      <th>3</th>\n",
       "      <td>holocaust</td>\n",
       "      <td>I'm about to cry .</td>\n",
       "      <td>IMP</td>\n",
       "    </tr>\n",
       "    <tr>\n",
       "      <th>4</th>\n",
       "      <td>holocaust</td>\n",
       "      <td>Maybe you would cry if the Jewish organization...</td>\n",
       "      <td>EXP</td>\n",
       "    </tr>\n",
       "  </tbody>\n",
       "</table>\n",
       "</div>"
      ],
      "text/plain": [
       "   subreddit                                               text labels\n",
       "0  holocaust                                                LOL    IMP\n",
       "1  holocaust  And Soccer \" A Lot of People Say Jews are Curs...    IMP\n",
       "2  holocaust  Every racial group in America is free to creat...    EXP\n",
       "3  holocaust                                 I'm about to cry .    IMP\n",
       "4  holocaust  Maybe you would cry if the Jewish organization...    EXP"
      ]
     },
     "execution_count": 2,
     "metadata": {},
     "output_type": "execute_result"
    }
   ],
   "source": [
    "import pandas as pd\n",
    "\n",
    "df = pd.read_csv('../data/reddit/preprocessed_reddit_abusive_large.csv',sep=',', header=0, skiprows=[1])\n",
    "df.head()"
   ]
  },
  {
   "cell_type": "code",
   "execution_count": 3,
   "metadata": {},
   "outputs": [
    {
     "data": {
      "text/plain": [
       "Index(['subreddit', 'text', 'labels'], dtype='object')"
      ]
     },
     "execution_count": 3,
     "metadata": {},
     "output_type": "execute_result"
    }
   ],
   "source": [
    "df.columns"
   ]
  },
  {
   "cell_type": "code",
   "execution_count": 4,
   "metadata": {},
   "outputs": [
    {
     "data": {
      "text/plain": [
       "(2803506, 3)"
      ]
     },
     "execution_count": 4,
     "metadata": {},
     "output_type": "execute_result"
    }
   ],
   "source": [
    "# Print dataframe shape\n",
    "df.shape"
   ]
  },
  {
   "cell_type": "code",
   "execution_count": 21,
   "metadata": {},
   "outputs": [
    {
     "data": {
      "text/plain": [
       "IMP    2152541\n",
       "EXP     650965\n",
       "Name: labels, dtype: int64"
      ]
     },
     "execution_count": 21,
     "metadata": {},
     "output_type": "execute_result"
    }
   ],
   "source": [
    "# distribution of labels\n",
    "df.labels.value_counts()"
   ]
  },
  {
   "cell_type": "code",
   "execution_count": 5,
   "metadata": {},
   "outputs": [
    {
     "data": {
      "text/html": [
       "<div>\n",
       "<style scoped>\n",
       "    .dataframe tbody tr th:only-of-type {\n",
       "        vertical-align: middle;\n",
       "    }\n",
       "\n",
       "    .dataframe tbody tr th {\n",
       "        vertical-align: top;\n",
       "    }\n",
       "\n",
       "    .dataframe thead th {\n",
       "        text-align: right;\n",
       "    }\n",
       "</style>\n",
       "<table border=\"1\" class=\"dataframe\">\n",
       "  <thead>\n",
       "    <tr style=\"text-align: right;\">\n",
       "      <th></th>\n",
       "      <th>subreddit</th>\n",
       "      <th>text</th>\n",
       "      <th>labels</th>\n",
       "      <th>token_count</th>\n",
       "    </tr>\n",
       "  </thead>\n",
       "  <tbody>\n",
       "    <tr>\n",
       "      <th>0</th>\n",
       "      <td>holocaust</td>\n",
       "      <td>LOL</td>\n",
       "      <td>IMP</td>\n",
       "      <td>1</td>\n",
       "    </tr>\n",
       "    <tr>\n",
       "      <th>1</th>\n",
       "      <td>holocaust</td>\n",
       "      <td>And Soccer \" A Lot of People Say Jews are Curs...</td>\n",
       "      <td>IMP</td>\n",
       "      <td>63</td>\n",
       "    </tr>\n",
       "    <tr>\n",
       "      <th>2</th>\n",
       "      <td>holocaust</td>\n",
       "      <td>Every racial group in America is free to creat...</td>\n",
       "      <td>EXP</td>\n",
       "      <td>88</td>\n",
       "    </tr>\n",
       "    <tr>\n",
       "      <th>3</th>\n",
       "      <td>holocaust</td>\n",
       "      <td>I'm about to cry .</td>\n",
       "      <td>IMP</td>\n",
       "      <td>5</td>\n",
       "    </tr>\n",
       "    <tr>\n",
       "      <th>4</th>\n",
       "      <td>holocaust</td>\n",
       "      <td>Maybe you would cry if the Jewish organization...</td>\n",
       "      <td>EXP</td>\n",
       "      <td>12</td>\n",
       "    </tr>\n",
       "  </tbody>\n",
       "</table>\n",
       "</div>"
      ],
      "text/plain": [
       "   subreddit                                               text labels  \\\n",
       "0  holocaust                                                LOL    IMP   \n",
       "1  holocaust  And Soccer \" A Lot of People Say Jews are Curs...    IMP   \n",
       "2  holocaust  Every racial group in America is free to creat...    EXP   \n",
       "3  holocaust                                 I'm about to cry .    IMP   \n",
       "4  holocaust  Maybe you would cry if the Jewish organization...    EXP   \n",
       "\n",
       "   token_count  \n",
       "0            1  \n",
       "1           63  \n",
       "2           88  \n",
       "3            5  \n",
       "4           12  "
      ]
     },
     "execution_count": 5,
     "metadata": {},
     "output_type": "execute_result"
    }
   ],
   "source": [
    "# Get the amount of tokens per message \n",
    "df['token_count'] = df['text'].astype(str).str.split().apply(len)\n",
    "df.head()"
   ]
  },
  {
   "cell_type": "code",
   "execution_count": 6,
   "metadata": {},
   "outputs": [
    {
     "data": {
      "text/html": [
       "<div>\n",
       "<style scoped>\n",
       "    .dataframe tbody tr th:only-of-type {\n",
       "        vertical-align: middle;\n",
       "    }\n",
       "\n",
       "    .dataframe tbody tr th {\n",
       "        vertical-align: top;\n",
       "    }\n",
       "\n",
       "    .dataframe thead th {\n",
       "        text-align: right;\n",
       "    }\n",
       "</style>\n",
       "<table border=\"1\" class=\"dataframe\">\n",
       "  <thead>\n",
       "    <tr style=\"text-align: right;\">\n",
       "      <th></th>\n",
       "      <th>subreddit</th>\n",
       "      <th>text</th>\n",
       "      <th>labels</th>\n",
       "      <th>token_count</th>\n",
       "      <th>char_count</th>\n",
       "    </tr>\n",
       "  </thead>\n",
       "  <tbody>\n",
       "    <tr>\n",
       "      <th>0</th>\n",
       "      <td>holocaust</td>\n",
       "      <td>LOL</td>\n",
       "      <td>IMP</td>\n",
       "      <td>1</td>\n",
       "      <td>3</td>\n",
       "    </tr>\n",
       "    <tr>\n",
       "      <th>1</th>\n",
       "      <td>holocaust</td>\n",
       "      <td>And Soccer \" A Lot of People Say Jews are Curs...</td>\n",
       "      <td>IMP</td>\n",
       "      <td>63</td>\n",
       "      <td>300</td>\n",
       "    </tr>\n",
       "    <tr>\n",
       "      <th>2</th>\n",
       "      <td>holocaust</td>\n",
       "      <td>Every racial group in America is free to creat...</td>\n",
       "      <td>EXP</td>\n",
       "      <td>88</td>\n",
       "      <td>478</td>\n",
       "    </tr>\n",
       "    <tr>\n",
       "      <th>3</th>\n",
       "      <td>holocaust</td>\n",
       "      <td>I'm about to cry .</td>\n",
       "      <td>IMP</td>\n",
       "      <td>5</td>\n",
       "      <td>18</td>\n",
       "    </tr>\n",
       "    <tr>\n",
       "      <th>4</th>\n",
       "      <td>holocaust</td>\n",
       "      <td>Maybe you would cry if the Jewish organization...</td>\n",
       "      <td>EXP</td>\n",
       "      <td>12</td>\n",
       "      <td>64</td>\n",
       "    </tr>\n",
       "  </tbody>\n",
       "</table>\n",
       "</div>"
      ],
      "text/plain": [
       "   subreddit                                               text labels  \\\n",
       "0  holocaust                                                LOL    IMP   \n",
       "1  holocaust  And Soccer \" A Lot of People Say Jews are Curs...    IMP   \n",
       "2  holocaust  Every racial group in America is free to creat...    EXP   \n",
       "3  holocaust                                 I'm about to cry .    IMP   \n",
       "4  holocaust  Maybe you would cry if the Jewish organization...    EXP   \n",
       "\n",
       "   token_count  char_count  \n",
       "0            1           3  \n",
       "1           63         300  \n",
       "2           88         478  \n",
       "3            5          18  \n",
       "4           12          64  "
      ]
     },
     "execution_count": 6,
     "metadata": {},
     "output_type": "execute_result"
    }
   ],
   "source": [
    "# Calculate total amount of characaters used per message\n",
    "df['char_count'] = df['text'].astype(str).apply(len)\n",
    "df.head()"
   ]
  },
  {
   "cell_type": "code",
   "execution_count": 7,
   "metadata": {},
   "outputs": [
    {
     "data": {
      "text/html": [
       "<div>\n",
       "<style scoped>\n",
       "    .dataframe tbody tr th:only-of-type {\n",
       "        vertical-align: middle;\n",
       "    }\n",
       "\n",
       "    .dataframe tbody tr th {\n",
       "        vertical-align: top;\n",
       "    }\n",
       "\n",
       "    .dataframe thead th {\n",
       "        text-align: right;\n",
       "    }\n",
       "</style>\n",
       "<table border=\"1\" class=\"dataframe\">\n",
       "  <thead>\n",
       "    <tr style=\"text-align: right;\">\n",
       "      <th></th>\n",
       "      <th>subreddit</th>\n",
       "      <th>text</th>\n",
       "      <th>labels</th>\n",
       "      <th>token_count</th>\n",
       "      <th>char_count</th>\n",
       "      <th>char_count_no_spacing</th>\n",
       "    </tr>\n",
       "  </thead>\n",
       "  <tbody>\n",
       "    <tr>\n",
       "      <th>0</th>\n",
       "      <td>holocaust</td>\n",
       "      <td>LOL</td>\n",
       "      <td>IMP</td>\n",
       "      <td>1</td>\n",
       "      <td>3</td>\n",
       "      <td>3</td>\n",
       "    </tr>\n",
       "    <tr>\n",
       "      <th>1</th>\n",
       "      <td>holocaust</td>\n",
       "      <td>And Soccer \" A Lot of People Say Jews are Curs...</td>\n",
       "      <td>IMP</td>\n",
       "      <td>63</td>\n",
       "      <td>300</td>\n",
       "      <td>238</td>\n",
       "    </tr>\n",
       "    <tr>\n",
       "      <th>2</th>\n",
       "      <td>holocaust</td>\n",
       "      <td>Every racial group in America is free to creat...</td>\n",
       "      <td>EXP</td>\n",
       "      <td>88</td>\n",
       "      <td>478</td>\n",
       "      <td>391</td>\n",
       "    </tr>\n",
       "    <tr>\n",
       "      <th>3</th>\n",
       "      <td>holocaust</td>\n",
       "      <td>I'm about to cry .</td>\n",
       "      <td>IMP</td>\n",
       "      <td>5</td>\n",
       "      <td>18</td>\n",
       "      <td>14</td>\n",
       "    </tr>\n",
       "    <tr>\n",
       "      <th>4</th>\n",
       "      <td>holocaust</td>\n",
       "      <td>Maybe you would cry if the Jewish organization...</td>\n",
       "      <td>EXP</td>\n",
       "      <td>12</td>\n",
       "      <td>64</td>\n",
       "      <td>53</td>\n",
       "    </tr>\n",
       "  </tbody>\n",
       "</table>\n",
       "</div>"
      ],
      "text/plain": [
       "   subreddit                                               text labels  \\\n",
       "0  holocaust                                                LOL    IMP   \n",
       "1  holocaust  And Soccer \" A Lot of People Say Jews are Curs...    IMP   \n",
       "2  holocaust  Every racial group in America is free to creat...    EXP   \n",
       "3  holocaust                                 I'm about to cry .    IMP   \n",
       "4  holocaust  Maybe you would cry if the Jewish organization...    EXP   \n",
       "\n",
       "   token_count  char_count  char_count_no_spacing  \n",
       "0            1           3                      3  \n",
       "1           63         300                    238  \n",
       "2           88         478                    391  \n",
       "3            5          18                     14  \n",
       "4           12          64                     53  "
      ]
     },
     "execution_count": 7,
     "metadata": {},
     "output_type": "execute_result"
    }
   ],
   "source": [
    "# Calculate total amount of characaters used per message without spaces\n",
    "df['char_count_no_spacing'] = df['text'].astype(str).str.replace(\" \", \"\").apply(len)\n",
    "df.head()"
   ]
  },
  {
   "cell_type": "code",
   "execution_count": 8,
   "metadata": {},
   "outputs": [
    {
     "data": {
      "text/html": [
       "<div>\n",
       "<style scoped>\n",
       "    .dataframe tbody tr th:only-of-type {\n",
       "        vertical-align: middle;\n",
       "    }\n",
       "\n",
       "    .dataframe tbody tr th {\n",
       "        vertical-align: top;\n",
       "    }\n",
       "\n",
       "    .dataframe thead th {\n",
       "        text-align: right;\n",
       "    }\n",
       "</style>\n",
       "<table border=\"1\" class=\"dataframe\">\n",
       "  <thead>\n",
       "    <tr style=\"text-align: right;\">\n",
       "      <th></th>\n",
       "      <th>token_count</th>\n",
       "      <th>char_count</th>\n",
       "      <th>char_count_no_spacing</th>\n",
       "    </tr>\n",
       "  </thead>\n",
       "  <tbody>\n",
       "    <tr>\n",
       "      <th>count</th>\n",
       "      <td>2803506.00</td>\n",
       "      <td>2803506.00</td>\n",
       "      <td>2803506.00</td>\n",
       "    </tr>\n",
       "    <tr>\n",
       "      <th>mean</th>\n",
       "      <td>30.07</td>\n",
       "      <td>149.41</td>\n",
       "      <td>120.34</td>\n",
       "    </tr>\n",
       "    <tr>\n",
       "      <th>std</th>\n",
       "      <td>50.57</td>\n",
       "      <td>261.05</td>\n",
       "      <td>212.14</td>\n",
       "    </tr>\n",
       "    <tr>\n",
       "      <th>min</th>\n",
       "      <td>1.00</td>\n",
       "      <td>1.00</td>\n",
       "      <td>1.00</td>\n",
       "    </tr>\n",
       "    <tr>\n",
       "      <th>25%</th>\n",
       "      <td>8.00</td>\n",
       "      <td>39.00</td>\n",
       "      <td>31.00</td>\n",
       "    </tr>\n",
       "    <tr>\n",
       "      <th>50%</th>\n",
       "      <td>17.00</td>\n",
       "      <td>81.00</td>\n",
       "      <td>65.00</td>\n",
       "    </tr>\n",
       "    <tr>\n",
       "      <th>75%</th>\n",
       "      <td>34.00</td>\n",
       "      <td>168.00</td>\n",
       "      <td>135.00</td>\n",
       "    </tr>\n",
       "    <tr>\n",
       "      <th>max</th>\n",
       "      <td>9357.00</td>\n",
       "      <td>85727.00</td>\n",
       "      <td>80531.00</td>\n",
       "    </tr>\n",
       "  </tbody>\n",
       "</table>\n",
       "</div>"
      ],
      "text/plain": [
       "       token_count  char_count  char_count_no_spacing\n",
       "count   2803506.00  2803506.00             2803506.00\n",
       "mean         30.07      149.41                 120.34\n",
       "std          50.57      261.05                 212.14\n",
       "min           1.00        1.00                   1.00\n",
       "25%           8.00       39.00                  31.00\n",
       "50%          17.00       81.00                  65.00\n",
       "75%          34.00      168.00                 135.00\n",
       "max        9357.00    85727.00               80531.00"
      ]
     },
     "execution_count": 8,
     "metadata": {},
     "output_type": "execute_result"
    }
   ],
   "source": [
    "pd.options.display.float_format = '{:.2f}'.format\n",
    "df[['token_count', 'char_count', 'char_count_no_spacing']].describe()"
   ]
  },
  {
   "cell_type": "code",
   "execution_count": 9,
   "metadata": {},
   "outputs": [
    {
     "name": "stdout",
     "output_type": "stream",
     "text": [
      "84292510\n"
     ]
    }
   ],
   "source": [
    "# Calculate the total amount of tokens used in the messages\n",
    "tokens_sum = df['token_count'].sum(axis=0)\n",
    "print(tokens_sum)"
   ]
  },
  {
   "cell_type": "code",
   "execution_count": 10,
   "metadata": {},
   "outputs": [
    {
     "name": "stdout",
     "output_type": "stream",
     "text": [
      "418865005 337375862\n"
     ]
    }
   ],
   "source": [
    "# Calculate the total amount of characters used in the messages for both spacing and non-spacing\n",
    "char_sum = df['char_count'].sum(axis=0)\n",
    "char_sum_no_spacing = df['char_count_no_spacing'].sum(axis=0)\n",
    "print(char_sum, char_sum_no_spacing)"
   ]
  },
  {
   "cell_type": "code",
   "execution_count": 11,
   "metadata": {},
   "outputs": [
    {
     "data": {
      "text/plain": [
       "30.06681990336386"
      ]
     },
     "execution_count": 11,
     "metadata": {},
     "output_type": "execute_result"
    }
   ],
   "source": [
    "# Calculate mean of words_count per message\n",
    "df['token_count'].mean()"
   ]
  },
  {
   "cell_type": "code",
   "execution_count": 12,
   "metadata": {},
   "outputs": [
    {
     "data": {
      "text/plain": [
       "149.40756502750486"
      ]
     },
     "execution_count": 12,
     "metadata": {},
     "output_type": "execute_result"
    }
   ],
   "source": [
    "# Get average of characters per message (including spaces)\n",
    "df['char_count'].mean()"
   ]
  },
  {
   "cell_type": "markdown",
   "metadata": {},
   "source": [
    "# Collect Data from subreddits"
   ]
  },
  {
   "cell_type": "code",
   "execution_count": 15,
   "metadata": {},
   "outputs": [
    {
     "data": {
      "text/plain": [
       "0    holocaust\n",
       "1    holocaust\n",
       "2    holocaust\n",
       "3    holocaust\n",
       "4    holocaust\n",
       "Name: subreddit, dtype: object"
      ]
     },
     "execution_count": 15,
     "metadata": {},
     "output_type": "execute_result"
    }
   ],
   "source": [
    "# Load in subreddit data\n",
    "df_subreddits = df.subreddit\n",
    "df_subreddits.head()"
   ]
  },
  {
   "cell_type": "code",
   "execution_count": 22,
   "metadata": {},
   "outputs": [
    {
     "data": {
      "text/plain": [
       "fatpeoplehate           1465531\n",
       "uncensorednews           577465\n",
       "milliondollarextreme     547998\n",
       "sjwhate                  165435\n",
       "europeannationalism       20132\n",
       "holocaust                 10242\n",
       "nazi                       7010\n",
       "pol                        5861\n",
       "misogyny                   1035\n",
       "hitler                      958\n",
       "niggerspics                 449\n",
       "niglets                     357\n",
       "niggervideos                311\n",
       "polacks                     209\n",
       "niggas                      175\n",
       "niggersstories               75\n",
       "chimpmusic                   35\n",
       "funnyniggers                 29\n",
       "niggerhistorymonth           28\n",
       "gibsmedat                    24\n",
       "teenapers                    23\n",
       "chicongo                     22\n",
       "didntdonuffins               22\n",
       "blackpeoplehate              16\n",
       "muhdick                      15\n",
       "whitesarecriminals           15\n",
       "far_right                    11\n",
       "niggerrebooted                6\n",
       "klukluxklan                   6\n",
       "apewrangling                  5\n",
       "beatingfaggots                3\n",
       "killthejews                   1\n",
       "killniggers                   1\n",
       "kike                          1\n",
       "Name: subreddit, dtype: int64"
      ]
     },
     "execution_count": 22,
     "metadata": {},
     "output_type": "execute_result"
    }
   ],
   "source": [
    "# Print Top 20 value counts of used subreddits\n",
    "df_subreddits.value_counts()"
   ]
  },
  {
   "cell_type": "code",
   "execution_count": 18,
   "metadata": {},
   "outputs": [
    {
     "data": {
      "text/plain": [
       "34"
      ]
     },
     "execution_count": 18,
     "metadata": {},
     "output_type": "execute_result"
    }
   ],
   "source": [
    "# Retrieve total unique subreddits\n",
    "unique_subreddits = df_subreddits.unique()\n",
    "len(unique_subreddits)"
   ]
  },
  {
   "cell_type": "code",
   "execution_count": 20,
   "metadata": {},
   "outputs": [
    {
     "data": {
      "text/plain": [
       "count        34.00\n",
       "mean      82456.06\n",
       "std      279520.56\n",
       "min           1.00\n",
       "25%          15.00\n",
       "50%          32.00\n",
       "75%        1015.75\n",
       "max     1465531.00\n",
       "Name: subreddit, dtype: float64"
      ]
     },
     "execution_count": 20,
     "metadata": {},
     "output_type": "execute_result"
    }
   ],
   "source": [
    "# Get statistics of subreddit data\n",
    "df_subreddits.value_counts().describe()"
   ]
  }
 ],
 "metadata": {
  "kernelspec": {
   "display_name": "Python 3",
   "language": "python",
   "name": "python3"
  },
  "language_info": {
   "codemirror_mode": {
    "name": "ipython",
    "version": 3
   },
   "file_extension": ".py",
   "mimetype": "text/x-python",
   "name": "python",
   "nbconvert_exporter": "python",
   "pygments_lexer": "ipython3",
   "version": "3.7.6"
  }
 },
 "nbformat": 4,
 "nbformat_minor": 2
}
